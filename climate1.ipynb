{
 "cells": [
  {
   "cell_type": "code",
   "execution_count": 1,
   "metadata": {},
   "outputs": [],
   "source": [
    "import numpy as np\n",
    "import pandas as pd\n",
    "from tigramite import data_processing as pp\n",
    "from tigramite.pcmci import PCMCI\n",
    "from tigramite.independence_tests.parcorr import ParCorr\n",
    "\n"
   ]
  },
  {
   "cell_type": "code",
   "execution_count": 2,
   "metadata": {},
   "outputs": [],
   "source": [
    "# Define the file path (use raw string `r` or double backslashes `\\\\` to avoid issues)\n",
    "file_path = r\"C:/Users/marta/OneDrive\\Documenti/UNI/Climate change seminar/processed_spi12.csv\"\n",
    "\n",
    "# Load CSV into a DataFrame\n",
    "df_spi12 = pd.read_csv(file_path)\n",
    "# Convert to Tigramite DataFrame\n",
    "df_spi12=df_spi12.dropna()\n",
    "# Display the first few rows\n",
    "\n"
   ]
  },
  {
   "cell_type": "code",
   "execution_count": 3,
   "metadata": {},
   "outputs": [
    {
     "name": "stderr",
     "output_type": "stream",
     "text": [
      "c:\\Users\\marta\\anaconda3\\envs\\climate\\lib\\site-packages\\tigramite\\data_processing.py:308: UserWarning: In analysis mode 'single', 'data'.shape = (481, 16200); is it of shape (observations, variables)?\n",
      "  warnings.warn(\"In analysis mode 'single', 'data'.shape = ({}, {});\"\\\n"
     ]
    },
    {
     "name": "stdout",
     "output_type": "stream",
     "text": [
      "\n",
      "##\n",
      "## Step 1: PC1 algorithm for selecting lagged conditions\n",
      "##\n",
      "\n",
      "Parameters:\n",
      "independence test = par_corr\n",
      "tau_min = 1\n",
      "tau_max = 5\n",
      "pc_alpha = [0.01]\n",
      "max_conds_dim = None\n",
      "max_combinations = 1\n",
      "\n",
      "\n"
     ]
    },
    {
     "ename": "MemoryError",
     "evalue": "",
     "output_type": "error",
     "traceback": [
      "\u001b[1;31m---------------------------------------------------------------------------\u001b[0m",
      "\u001b[1;31mMemoryError\u001b[0m                               Traceback (most recent call last)",
      "Cell \u001b[1;32mIn[3], line 16\u001b[0m\n\u001b[0;32m     13\u001b[0m pcmci \u001b[38;5;241m=\u001b[39m PCMCI(dataframe\u001b[38;5;241m=\u001b[39mdataframe2, cond_ind_test\u001b[38;5;241m=\u001b[39mcond_ind_test, verbosity\u001b[38;5;241m=\u001b[39m\u001b[38;5;241m1\u001b[39m)\n\u001b[0;32m     15\u001b[0m \u001b[38;5;66;03m# Run PCMCI algorithm\u001b[39;00m\n\u001b[1;32m---> 16\u001b[0m results \u001b[38;5;241m=\u001b[39m \u001b[43mpcmci\u001b[49m\u001b[38;5;241;43m.\u001b[39;49m\u001b[43mrun_pcmci\u001b[49m\u001b[43m(\u001b[49m\u001b[43mtau_min\u001b[49m\u001b[38;5;241;43m=\u001b[39;49m\u001b[43mtau_min\u001b[49m\u001b[43m,\u001b[49m\u001b[43m \u001b[49m\u001b[43mtau_max\u001b[49m\u001b[38;5;241;43m=\u001b[39;49m\u001b[43mtau_max\u001b[49m\u001b[43m,\u001b[49m\u001b[43m \u001b[49m\u001b[43mpc_alpha\u001b[49m\u001b[38;5;241;43m=\u001b[39;49m\u001b[43mpc_alpha\u001b[49m\u001b[43m)\u001b[49m\n\u001b[0;32m     18\u001b[0m \u001b[38;5;66;03m# Extract results\u001b[39;00m\n\u001b[0;32m     19\u001b[0m p_matrix \u001b[38;5;241m=\u001b[39m results[\u001b[38;5;124m'\u001b[39m\u001b[38;5;124mp_matrix\u001b[39m\u001b[38;5;124m'\u001b[39m]\n",
      "File \u001b[1;32mc:\\Users\\marta\\anaconda3\\envs\\climate\\lib\\site-packages\\tigramite\\pcmci.py:1921\u001b[0m, in \u001b[0;36mPCMCI.run_pcmci\u001b[1;34m(self, selected_links, link_assumptions, tau_min, tau_max, save_iterations, pc_alpha, max_conds_dim, max_combinations, max_conds_py, max_conds_px, alpha_level, fdr_method)\u001b[0m\n\u001b[0;32m   1917\u001b[0m     \u001b[38;5;28;01mraise\u001b[39;00m \u001b[38;5;167;01mValueError\u001b[39;00m(\u001b[38;5;124m\"\u001b[39m\u001b[38;5;124mselected_links is DEPRECATED, use link_assumptions instead.\u001b[39m\u001b[38;5;124m\"\u001b[39m)\n\u001b[0;32m   1920\u001b[0m \u001b[38;5;66;03m# Get the parents from run_pc_stable\u001b[39;00m\n\u001b[1;32m-> 1921\u001b[0m all_parents \u001b[38;5;241m=\u001b[39m \u001b[38;5;28;43mself\u001b[39;49m\u001b[38;5;241;43m.\u001b[39;49m\u001b[43mrun_pc_stable\u001b[49m\u001b[43m(\u001b[49m\u001b[43mlink_assumptions\u001b[49m\u001b[38;5;241;43m=\u001b[39;49m\u001b[43mlink_assumptions\u001b[49m\u001b[43m,\u001b[49m\n\u001b[0;32m   1922\u001b[0m \u001b[43m                                 \u001b[49m\u001b[43mtau_min\u001b[49m\u001b[38;5;241;43m=\u001b[39;49m\u001b[43mtau_min\u001b[49m\u001b[43m,\u001b[49m\n\u001b[0;32m   1923\u001b[0m \u001b[43m                                 \u001b[49m\u001b[43mtau_max\u001b[49m\u001b[38;5;241;43m=\u001b[39;49m\u001b[43mtau_max\u001b[49m\u001b[43m,\u001b[49m\n\u001b[0;32m   1924\u001b[0m \u001b[43m                                 \u001b[49m\u001b[43msave_iterations\u001b[49m\u001b[38;5;241;43m=\u001b[39;49m\u001b[43msave_iterations\u001b[49m\u001b[43m,\u001b[49m\n\u001b[0;32m   1925\u001b[0m \u001b[43m                                 \u001b[49m\u001b[43mpc_alpha\u001b[49m\u001b[38;5;241;43m=\u001b[39;49m\u001b[43mpc_alpha\u001b[49m\u001b[43m,\u001b[49m\n\u001b[0;32m   1926\u001b[0m \u001b[43m                                 \u001b[49m\u001b[43mmax_conds_dim\u001b[49m\u001b[38;5;241;43m=\u001b[39;49m\u001b[43mmax_conds_dim\u001b[49m\u001b[43m,\u001b[49m\n\u001b[0;32m   1927\u001b[0m \u001b[43m                                 \u001b[49m\u001b[43mmax_combinations\u001b[49m\u001b[38;5;241;43m=\u001b[39;49m\u001b[43mmax_combinations\u001b[49m\u001b[43m)\u001b[49m\n\u001b[0;32m   1929\u001b[0m \u001b[38;5;66;03m# Get the results from run_mci, using the parents as the input\u001b[39;00m\n\u001b[0;32m   1930\u001b[0m results \u001b[38;5;241m=\u001b[39m \u001b[38;5;28mself\u001b[39m\u001b[38;5;241m.\u001b[39mrun_mci(link_assumptions\u001b[38;5;241m=\u001b[39mlink_assumptions,\n\u001b[0;32m   1931\u001b[0m                        tau_min\u001b[38;5;241m=\u001b[39mtau_min,\n\u001b[0;32m   1932\u001b[0m                        tau_max\u001b[38;5;241m=\u001b[39mtau_max,\n\u001b[1;32m   (...)\u001b[0m\n\u001b[0;32m   1936\u001b[0m                        alpha_level\u001b[38;5;241m=\u001b[39malpha_level,\n\u001b[0;32m   1937\u001b[0m                        fdr_method\u001b[38;5;241m=\u001b[39mfdr_method)\n",
      "File \u001b[1;32mc:\\Users\\marta\\anaconda3\\envs\\climate\\lib\\site-packages\\tigramite\\pcmci.py:661\u001b[0m, in \u001b[0;36mPCMCI.run_pc_stable\u001b[1;34m(self, selected_links, link_assumptions, tau_min, tau_max, save_iterations, pc_alpha, max_conds_dim, max_combinations)\u001b[0m\n\u001b[0;32m    654\u001b[0m     \u001b[38;5;28mself\u001b[39m\u001b[38;5;241m.\u001b[39m_print_pc_params(link_assumptions, tau_min, tau_max,\n\u001b[0;32m    655\u001b[0m                       _int_pc_alpha, max_conds_dim,\n\u001b[0;32m    656\u001b[0m                       max_combinations)\n\u001b[0;32m    658\u001b[0m \u001b[38;5;66;03m# Set the selected links\u001b[39;00m\n\u001b[0;32m    659\u001b[0m \u001b[38;5;66;03m# _int_sel_links = self._set_sel_links(selected_links, tau_min, tau_max,\u001b[39;00m\n\u001b[0;32m    660\u001b[0m \u001b[38;5;66;03m#                                      remove_contemp=True)\u001b[39;00m\n\u001b[1;32m--> 661\u001b[0m _int_link_assumptions \u001b[38;5;241m=\u001b[39m \u001b[38;5;28;43mself\u001b[39;49m\u001b[38;5;241;43m.\u001b[39;49m\u001b[43m_set_link_assumptions\u001b[49m\u001b[43m(\u001b[49m\u001b[43mlink_assumptions\u001b[49m\u001b[43m,\u001b[49m\u001b[43m \u001b[49m\n\u001b[0;32m    662\u001b[0m \u001b[43m    \u001b[49m\u001b[43mtau_min\u001b[49m\u001b[43m,\u001b[49m\u001b[43m \u001b[49m\u001b[43mtau_max\u001b[49m\u001b[43m,\u001b[49m\u001b[43m \u001b[49m\u001b[43mremove_contemp\u001b[49m\u001b[38;5;241;43m=\u001b[39;49m\u001b[38;5;28;43;01mTrue\u001b[39;49;00m\u001b[43m)\u001b[49m\n\u001b[0;32m    664\u001b[0m \u001b[38;5;66;03m# Initialize all parents\u001b[39;00m\n\u001b[0;32m    665\u001b[0m all_parents \u001b[38;5;241m=\u001b[39m \u001b[38;5;28mdict\u001b[39m()\n",
      "File \u001b[1;32mc:\\Users\\marta\\anaconda3\\envs\\climate\\lib\\site-packages\\tigramite\\pcmci_base.py:165\u001b[0m, in \u001b[0;36mPCMCIbase._set_link_assumptions\u001b[1;34m(self, link_assumptions, tau_min, tau_max, remove_contemp)\u001b[0m\n\u001b[0;32m    163\u001b[0m                         _int_link_assumptions[j][(i, \u001b[38;5;241m0\u001b[39m)] \u001b[38;5;241m=\u001b[39m \u001b[38;5;124m'\u001b[39m\u001b[38;5;124mo?o\u001b[39m\u001b[38;5;124m'\u001b[39m\n\u001b[0;32m    164\u001b[0m                     \u001b[38;5;28;01melse\u001b[39;00m:\n\u001b[1;32m--> 165\u001b[0m                         \u001b[43m_int_link_assumptions\u001b[49m\u001b[43m[\u001b[49m\u001b[43mj\u001b[49m\u001b[43m]\u001b[49m\u001b[43m[\u001b[49m\u001b[43m(\u001b[49m\u001b[43mi\u001b[49m\u001b[43m,\u001b[49m\u001b[43m \u001b[49m\u001b[38;5;241;43m-\u001b[39;49m\u001b[43mlag\u001b[49m\u001b[43m)\u001b[49m\u001b[43m]\u001b[49m \u001b[38;5;241m=\u001b[39m \u001b[38;5;124m'\u001b[39m\u001b[38;5;124m-?>\u001b[39m\u001b[38;5;124m'\u001b[39m\n\u001b[0;32m    167\u001b[0m \u001b[38;5;28;01melse\u001b[39;00m:\n\u001b[0;32m    169\u001b[0m     \u001b[38;5;28;01mif\u001b[39;00m remove_contemp:\n",
      "\u001b[1;31mMemoryError\u001b[0m: "
     ]
    }
   ],
   "source": [
    "# Convert to numpy array and create PCMCI-compatible DataFrame\n",
    "data_values = df_spi12.values\n",
    "dataframe2 = pp.DataFrame(data_values)\n",
    "\n",
    "tau_min = 1\n",
    "tau_max = 5  # Reduced from 10 for performance\n",
    "pc_alpha = 0.01\n",
    "\n",
    "# Set up the conditional independence test\n",
    "cond_ind_test = ParCorr()\n",
    "\n",
    "# Initialize PCMCI\n",
    "pcmci = PCMCI(dataframe=dataframe2, cond_ind_test=cond_ind_test, verbosity=1)\n",
    "\n",
    "# Run PCMCI algorithm\n",
    "results = pcmci.run_pcmci(tau_min=tau_min, tau_max=tau_max, pc_alpha=pc_alpha)\n",
    "\n",
    "# Extract results\n",
    "p_matrix = results['p_matrix']\n",
    "val_matrix = results['val_matrix']\n",
    "\n",
    "# Get significant causal links (assuming the method exists)\n",
    "significant_links = pcmci.return_significant_links(p_matrix, val_matrix, alpha_level=0.05)\n",
    "\n",
    "# Convert the results to a pandas DataFrame\n",
    "import pandas as pd\n",
    "sig_links_df = pd.DataFrame(significant_links)\n",
    "\n",
    "# Export the DataFrame to a CSV file\n",
    "sig_links_df.to_csv(\"significant_links.csv\", index=False)\n"
   ]
  }
 ],
 "metadata": {
  "kernelspec": {
   "display_name": "climate",
   "language": "python",
   "name": "python3"
  },
  "language_info": {
   "codemirror_mode": {
    "name": "ipython",
    "version": 3
   },
   "file_extension": ".py",
   "mimetype": "text/x-python",
   "name": "python",
   "nbconvert_exporter": "python",
   "pygments_lexer": "ipython3",
   "version": "3.10.16"
  }
 },
 "nbformat": 4,
 "nbformat_minor": 2
}
